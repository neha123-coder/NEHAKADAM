{
 "cells": [
  {
   "cell_type": "markdown",
   "id": "6c346ebc-5943-4fa5-8aa8-df7306f68f07",
   "metadata": {},
   "source": [
    "## Q1: Key with maximum unique values\n",
    "Given a dictionary with values list, extract key whose value has most unique values."
   ]
  },
  {
   "cell_type": "code",
   "execution_count": null,
   "id": "8635a8e8-467e-4d57-952b-48d0b30dafb5",
   "metadata": {},
   "outputs": [],
   "source": [
    "Example 1:\n",
    "\n",
    "Input:\n",
    "\n",
    "test_dict = {\"CampusX\" : [5, 7, 9, 4, 0], \"is\" : [6, 7, 4, 3, 3], \"Best\" : [9, 9, 6, 5, 5]}\n",
    "\n",
    "Output:\n",
    "CampusX\n",
    "\n",
    "\n",
    "Example 2:\n",
    "\n",
    "Input:\n",
    "\n",
    "test_dict = {\"CampusX\" : [5, 7, 7, 7, 7], \"is\" : [6, 7, 7, 7], \"Best\" : [9, 9, 6, 5, 5]}\n",
    "Output:\n",
    "\n",
    "Best"
   ]
  },
  {
   "cell_type": "code",
   "execution_count": 10,
   "id": "938208e6-cd83-494a-b422-b9de337e92f0",
   "metadata": {},
   "outputs": [
    {
     "name": "stdout",
     "output_type": "stream",
     "text": [
      "The original dictionary is : {'CampusX': [5, 7, 9, 4, 0], 'is': [6, 7, 4, 3, 3], 'Best': [9, 9, 6, 5, 5]}\n",
      "Key with maximum unique values : CampusX\n"
     ]
    }
   ],
   "source": [
    "test_dict = {\"CampusX\" : [5, 7, 9, 4, 0], \"is\" : [6, 7, 4, 3, 3], \"Best\" : [9, 9, 6, 5, 5]}\n",
    "\n",
    "print(\"The original dictionary is : \" + str(test_dict))\n",
    "\n",
    "max_val = 0\n",
    "max_key = None\n",
    "\n",
    "for sub in test_dict:\n",
    "\n",
    "\tif len(set(test_dict[sub])) > max_val:\n",
    "\t\tmax_val = len(set(test_dict[sub]))\n",
    "\t\tmax_key = sub\n",
    "\n",
    "print(\"Key with maximum unique values : \" + str(max_key))\n"
   ]
  },
  {
   "cell_type": "code",
   "execution_count": 11,
   "id": "ba882aa1-c45a-4460-89f5-14228af93bd3",
   "metadata": {},
   "outputs": [
    {
     "name": "stdout",
     "output_type": "stream",
     "text": [
      "The original dictionary is : {'CampusX': [5, 7, 7, 7, 7], 'is': [6, 7, 7, 7], 'Best': [9, 9, 6, 5, 5]}\n",
      "Key with maximum unique values : Best\n"
     ]
    }
   ],
   "source": [
    "test_dict = {\"CampusX\" : [5, 7, 7, 7, 7], \"is\" : [6, 7, 7, 7], \"Best\" : [9, 9, 6, 5, 5]}\n",
    "print(\"The original dictionary is : \" + str(test_dict))\n",
    "\n",
    "max_val = 0\n",
    "max_key = None\n",
    "\n",
    "for sub in test_dict:\n",
    "\n",
    "\tif len(set(test_dict[sub])) > max_val:\n",
    "\t\tmax_val = len(set(test_dict[sub]))\n",
    "\t\tmax_key = sub\n",
    "\n",
    "print(\"Key with maximum unique values : \" + str(max_key))\n"
   ]
  },
  {
   "cell_type": "markdown",
   "id": "39f891b4-fc87-4ac1-9035-4556a0244f54",
   "metadata": {},
   "source": [
    "## Q2: Replace words from Dictionary. Given String, replace it’s words from lookup dictionary."
   ]
  },
  {
   "cell_type": "code",
   "execution_count": null,
   "id": "b4782247-fb29-45d9-b84a-fc8a87a9bbd0",
   "metadata": {},
   "outputs": [],
   "source": [
    "Example 1:\n",
    "\n",
    "Input:\n",
    "\n",
    "test_str = 'CampusX best for DS students.'\n",
    "repl_dict = {\"best\" : \"is the best channel\", \"DS\" : \"Data-Science\"}\n",
    "\n",
    "Output:\n",
    "CampusX is the best channel for Data-Science students.\n",
    "\n",
    "Example 2:\n",
    "\n",
    "Input:\n",
    "\n",
    "test_str = 'CampusX best for DS students.'\n",
    "repl_dict = {\"good\" : \"is the best channel\", \"ds\" : \"Data-Science\"}\n",
    "Output:\n",
    "\n",
    "CampusX best for DS students."
   ]
  },
  {
   "cell_type": "code",
   "execution_count": 8,
   "id": "e227de3c-1e9b-4de5-ba0a-cad2346de208",
   "metadata": {},
   "outputs": [
    {
     "name": "stdout",
     "output_type": "stream",
     "text": [
      "The original string is : CampusX best for DS students.\n",
      "Replaced Strings : CampusX is the best channel for Data-Science students.\n"
     ]
    }
   ],
   "source": [
    "test_str = 'CampusX best for DS students.'\n",
    "print(\"The original string is : \" + str(test_str))\n",
    "\n",
    "lookp_dict = {\"best\" : \"is the best channel\", \"DS\" : \"Data-Science\"}\n",
    "              \n",
    "temp = test_str.split()\n",
    "res = []\n",
    "for wrd in temp:\n",
    "\t\n",
    "\tres.append(lookp_dict.get(wrd, wrd))\n",
    "\t\n",
    "res = ' '.join(res)\n",
    "\n",
    "print(\"Replaced Strings : \" + str(res)) \n"
   ]
  },
  {
   "cell_type": "code",
   "execution_count": 9,
   "id": "daa68b3e-9321-4df7-9fb5-b1b29a950ce7",
   "metadata": {},
   "outputs": [
    {
     "name": "stdout",
     "output_type": "stream",
     "text": [
      "The original string is : CampusX best for DS students.\n",
      "Replaced Strings : CampusX best for DS students.\n"
     ]
    }
   ],
   "source": [
    "test_str = 'CampusX best for DS students.'\n",
    "print(\"The original string is : \" + str(test_str))\n",
    "\n",
    "lookp_dict = {\"good\" : \"is the best channel\", \"ds\" : \"Data-Science\"}\n",
    "              \n",
    "temp = test_str.split()\n",
    "res = []\n",
    "for wrd in temp:\n",
    "\t\n",
    "\tres.append(lookp_dict.get(wrd, wrd))\n",
    "\t\n",
    "res = ' '.join(res)\n",
    "\n",
    "print(\"Replaced Strings : \" + str(res)) \n"
   ]
  },
  {
   "cell_type": "markdown",
   "id": "aa005652-4530-448d-a4fd-f5e90a33e8ce",
   "metadata": {},
   "source": [
    "## Q3: Convert List to List of dictionaries. Given list values and keys list, convert these values to key value pairs in form of list of dictionaries."
   ]
  },
  {
   "cell_type": "code",
   "execution_count": null,
   "id": "cc4a5a32-1a5c-4067-b807-9ba67cdb10ce",
   "metadata": {},
   "outputs": [],
   "source": [
    "Example 1:\n",
    "\n",
    "Input:\n",
    "\n",
    "test_list = [\"DataScience\", 3, \"is\", 8]\n",
    "key_list = [\"name\", \"id\"]\n",
    "Output:\n",
    "\n",
    "[{'name': 'DataScience', 'id': 3}, {'name': 'is', 'id': 8}]\n",
    "\n",
    "\n",
    "\n",
    "Example 2:\n",
    "\n",
    "Input:\n",
    "\n",
    "test_list = [\"CampusX\", 10]\n",
    "key_list = [\"name\", \"id\"]\n",
    "Output:\n",
    "\n",
    "[{'name': 'CampusX', 'id': 10}]"
   ]
  },
  {
   "cell_type": "code",
   "execution_count": 6,
   "id": "8dadbe2c-835d-402f-ad0e-636a0a8e6f17",
   "metadata": {},
   "outputs": [
    {
     "name": "stdout",
     "output_type": "stream",
     "text": [
      "The original list : ['DataScience', 3, 'is', 8]\n",
      "The constructed dictionary list : [{'name': 'DataScience', 'id': 3}, {'name': 'is', 'id': 8}]\n"
     ]
    }
   ],
   "source": [
    "test_list = [\"DataScience\", 3, \"is\", 8]\n",
    "print(\"The original list : \" + str(test_list))\n",
    "\n",
    "key_list = [\"name\", \"id\"]\n",
    "n = len(test_list)\n",
    "res = []\n",
    "for idx in range(0, n, 2):\n",
    "\tres.append({key_list[0]: test_list[idx], key_list[1] : test_list[idx + 1]})\n",
    "\n",
    "print(\"The constructed dictionary list : \" + str(res))\n"
   ]
  },
  {
   "cell_type": "code",
   "execution_count": 7,
   "id": "8d99cc18-6f26-4e86-9c27-6a608beebdb3",
   "metadata": {},
   "outputs": [
    {
     "name": "stdout",
     "output_type": "stream",
     "text": [
      "The original list : ['CampusX', 10]\n",
      "The constructed dictionary list : [{'name': 'CampusX', 'id': 10}]\n"
     ]
    }
   ],
   "source": [
    "test_list =  [\"CampusX\", 10]\n",
    "print(\"The original list : \" + str(test_list))\n",
    "\n",
    "key_list = [\"name\", \"id\"]\n",
    "n = len(test_list)\n",
    "res = []\n",
    "for idx in range(0, n, 2):\n",
    "\tres.append({key_list[0]: test_list[idx], key_list[1] : test_list[idx + 1]})\n",
    "\n",
    "print(\"The constructed dictionary list : \" + str(res))\n"
   ]
  },
  {
   "cell_type": "markdown",
   "id": "3e2a0bc0-69c8-46ab-b680-746056d721df",
   "metadata": {},
   "source": [
    "## Q4: Convert a list of Tuples into Dictionary."
   ]
  },
  {
   "cell_type": "code",
   "execution_count": null,
   "id": "3a9512db-be22-4883-9dc6-54e00a322ed4",
   "metadata": {},
   "outputs": [],
   "source": [
    "Example 1:\n",
    "\n",
    "Input:\n",
    "\n",
    "[(\"akash\", 10), (\"gaurav\", 12), (\"anand\", 14), (\"suraj\", 20), (\"akhil\", 25), (\"ashish\", 30)]\n",
    "Output:\n",
    "\n",
    "{'akash': [10], 'gaurav': [12], 'anand': [14], 'suraj': [20], 'akhil': [25], 'ashish': [30]}\n",
    "\n",
    "\n",
    "\n",
    "Example 2:\n",
    "\n",
    "Input:\n",
    "\n",
    "[('A', 1), ('B', 2), ('C', 3)]\n",
    "Output:\n",
    "\n",
    "{'A': [1], 'B': [2], 'C': [3]}"
   ]
  },
  {
   "cell_type": "code",
   "execution_count": 1,
   "id": "5f32f2be-51e3-4e32-8d59-85a8457b9f85",
   "metadata": {},
   "outputs": [
    {
     "name": "stdout",
     "output_type": "stream",
     "text": [
      "{'akash': [10], 'gaurav': [12], 'anand': [14], 'suraj': [20], 'akhil': [25], 'ashish': [30]}\n"
     ]
    }
   ],
   "source": [
    "def Convert(tup, di):\n",
    "\tfor a, b in tup:\n",
    "\t\tdi.setdefault(a, []).append(b)\n",
    "\treturn di\n",
    "    \n",
    "tups = [(\"akash\", 10), (\"gaurav\", 12), (\"anand\", 14),\n",
    "\t\t(\"suraj\", 20), (\"akhil\", 25), (\"ashish\", 30)]\n",
    "dictionary = {}\n",
    "print(Convert(tups, dictionary))\n"
   ]
  },
  {
   "cell_type": "code",
   "execution_count": 3,
   "id": "2a281670-772b-4883-bc8c-f039f29f6526",
   "metadata": {},
   "outputs": [
    {
     "name": "stdout",
     "output_type": "stream",
     "text": [
      "{'A': [1], 'B': [2], 'C': [3]}\n"
     ]
    }
   ],
   "source": [
    "# Python code to convert into dictionary\n",
    "list_1 = [('A', 1), ('B', 2), ('C', 3)]\n",
    "dict_1 = dict()\n",
    "\n",
    "for student, score in list_1:\n",
    "\tdict_1.setdefault(student, []).append(score)\n",
    "print(dict_1)\n"
   ]
  },
  {
   "cell_type": "markdown",
   "id": "dfc80b40-e1b5-4693-baa9-7917fc21b00e",
   "metadata": {},
   "source": [
    "## Q5: Sort Dictionary key and values List."
   ]
  },
  {
   "cell_type": "code",
   "execution_count": null,
   "id": "e9c3f098-668d-4742-a7d0-4c679068ebf1",
   "metadata": {},
   "outputs": [],
   "source": [
    "Example 1:\n",
    "\n",
    "Input:\n",
    "\n",
    "{'c': [3], 'b': [12, 10], 'a': [19, 4]}\n",
    "Output:\n",
    "\n",
    "{'a': [4, 19], 'b': [10, 12], 'c': [3]}\n",
    "\n",
    "\n",
    "Example 2:\n",
    "\n",
    "Input:\n",
    "\n",
    "{'c': [10, 34, 3]}\n",
    "Output:\n",
    "\n",
    "{'c': [3, 10, 34]}"
   ]
  },
  {
   "cell_type": "code",
   "execution_count": 4,
   "id": "2d061f41-67db-42c9-adc4-6193f404bf33",
   "metadata": {},
   "outputs": [
    {
     "name": "stdout",
     "output_type": "stream",
     "text": [
      "The original dictionary is : {'c': [3], 'b': [12, 10], 'a': [19, 4]}\n",
      "The sorted dictionary : {'a': [4, 19], 'b': [10, 12], 'c': [3]}\n"
     ]
    }
   ],
   "source": [
    "test_dict = {'c': [3],\n",
    "             'b': [12, 10], \n",
    "             'a': [19, 4]}\n",
    "\n",
    "print(\"The original dictionary is : \" + str(test_dict))\n",
    "\n",
    "res = dict()\n",
    "for key in sorted(test_dict):\n",
    "\tres[key] = sorted(test_dict[key])\n",
    "\n",
    "print(\"The sorted dictionary : \" + str(res)) \n"
   ]
  },
  {
   "cell_type": "code",
   "execution_count": 5,
   "id": "0ea13d94-cb81-4770-bcba-09aae5da63f9",
   "metadata": {},
   "outputs": [
    {
     "name": "stdout",
     "output_type": "stream",
     "text": [
      "The original dictionary is : {'c': [10, 34, 3]}\n",
      "The sorted dictionary : {'c': [3, 10, 34]}\n"
     ]
    }
   ],
   "source": [
    "test_dict = {'c': [10, 34, 3]}\n",
    "\n",
    "print(\"The original dictionary is : \" + str(test_dict))\n",
    "\n",
    "res = dict()\n",
    "for key in sorted(test_dict):\n",
    "\tres[key] = sorted(test_dict[key])\n",
    "\n",
    "print(\"The sorted dictionary : \" + str(res)) "
   ]
  },
  {
   "cell_type": "code",
   "execution_count": null,
   "id": "e59d1b9d-b9d4-44e3-aa9e-f98f30c43ee1",
   "metadata": {},
   "outputs": [],
   "source": []
  }
 ],
 "metadata": {
  "kernelspec": {
   "display_name": "Python 3 (ipykernel)",
   "language": "python",
   "name": "python3"
  },
  "language_info": {
   "codemirror_mode": {
    "name": "ipython",
    "version": 3
   },
   "file_extension": ".py",
   "mimetype": "text/x-python",
   "name": "python",
   "nbconvert_exporter": "python",
   "pygments_lexer": "ipython3",
   "version": "3.11.7"
  }
 },
 "nbformat": 4,
 "nbformat_minor": 5
}
